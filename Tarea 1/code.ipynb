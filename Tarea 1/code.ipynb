{
 "nbformat": 4,
 "nbformat_minor": 2,
 "metadata": {
  "language_info": {
   "name": "python",
   "codemirror_mode": {
    "name": "ipython",
    "version": 3
   },
   "version": "3.7.4-final"
  },
  "orig_nbformat": 2,
  "file_extension": ".py",
  "mimetype": "text/x-python",
  "name": "python",
  "npconvert_exporter": "python",
  "pygments_lexer": "ipython3",
  "version": 3,
  "kernelspec": {
   "name": "python3",
   "display_name": "Python 3"
  }
 },
 "cells": [
  {
   "cell_type": "code",
   "execution_count": 15,
   "metadata": {},
   "outputs": [],
   "source": [
    "young = lambda a,A,Y,T,T_0,tau_0: -a*A*Y*(T-T_0)+tau_0 \n",
    "frecuency = lambda L, tau, m: 1/(2*L)*sqrt(tau*L/m)"
   ]
  },
  {
   "cell_type": "code",
   "execution_count": 18,
   "metadata": {},
   "outputs": [
    {
     "output_type": "stream",
     "name": "stdout",
     "text": "20.0017\n"
    }
   ],
   "source": [
    "a = 0.5e-5\n",
    "A = 0.0085*1e-6\n",
    "Y = 2*10e9 \n",
    "T = 8 + 273.15\n",
    "T_0 = 10 + 273.15\n",
    "t_0 = 20 \n",
    "print(young(a, A, Y, T, T_0, t_0))\n",
    ""
   ]
  },
  {
   "cell_type": "code",
   "execution_count": 17,
   "metadata": {},
   "outputs": [
    {
     "output_type": "stream",
     "name": "stdout",
     "text": "100.0 1000.0\n"
    }
   ],
   "source": [
    "print(1e2, 10e2)"
   ]
  },
  {
   "cell_type": "code",
   "execution_count": null,
   "metadata": {},
   "outputs": [],
   "source": []
  }
 ]
}